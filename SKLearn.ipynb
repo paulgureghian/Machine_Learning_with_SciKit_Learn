{
  "nbformat": 4,
  "nbformat_minor": 0,
  "metadata": {
    "colab": {
      "name": "SKLearn.ipynb",
      "version": "0.3.2",
      "provenance": [],
      "collapsed_sections": [],
      "include_colab_link": true
    },
    "kernelspec": {
      "name": "python3",
      "display_name": "Python 3"
    }
  },
  "cells": [
    {
      "cell_type": "markdown",
      "metadata": {
        "id": "view-in-github",
        "colab_type": "text"
      },
      "source": [
        "<a href=\"https://colab.research.google.com/github/paulgureghian/SciKit_Learn_Projects/blob/master/SKLearn.ipynb\" target=\"_parent\"><img src=\"https://colab.research.google.com/assets/colab-badge.svg\" alt=\"Open In Colab\"/></a>"
      ]
    },
    {
      "metadata": {
        "id": "L2vzL14PZmtx",
        "colab_type": "text"
      },
      "cell_type": "markdown",
      "source": [
        "### **Created in April 2019 by Paul A. Gureghian.**"
      ]
    },
    {
      "metadata": {
        "id": "MBWaE1QCZxJu",
        "colab_type": "text"
      },
      "cell_type": "markdown",
      "source": [
        "### **This scientific notebook has Python code to do Multi-Class Classification using the Sci-Kit Learn library.**"
      ]
    },
    {
      "metadata": {
        "id": "o-RqwwiAaTqo",
        "colab_type": "code",
        "colab": {}
      },
      "cell_type": "code",
      "source": [
        "### Import libraries\n",
        "import pandas as pd\n",
        "import matplotlib.pyplot as plt\n",
        "from sklearn.datasets import load_digits\n",
        "from sklearn.model_selection import train_test_split"
      ],
      "execution_count": 0,
      "outputs": []
    },
    {
      "metadata": {
        "id": "WDIqtlbya3Dd",
        "colab_type": "code",
        "colab": {
          "base_uri": "https://localhost:8080/",
          "height": 1281
        },
        "outputId": "669bbd7b-d56e-47e8-fb60-2b11a2ff420d"
      },
      "cell_type": "code",
      "source": [
        "### Load digits dataset\n",
        "dig = load_digits()\n",
        "print(\"Shape of the digits dataset:\", dig, '\\n')\n",
        "\n",
        "plt.gray()\n",
        "plt.matshow(dig.images[25])"
      ],
      "execution_count": 26,
      "outputs": [
        {
          "output_type": "stream",
          "text": [
            "Shape of the digits dataset: {'data': array([[ 0.,  0.,  5., ...,  0.,  0.,  0.],\n",
            "       [ 0.,  0.,  0., ..., 10.,  0.,  0.],\n",
            "       [ 0.,  0.,  0., ..., 16.,  9.,  0.],\n",
            "       ...,\n",
            "       [ 0.,  0.,  1., ...,  6.,  0.,  0.],\n",
            "       [ 0.,  0.,  2., ..., 12.,  0.,  0.],\n",
            "       [ 0.,  0., 10., ..., 12.,  1.,  0.]]), 'target': array([0, 1, 2, ..., 8, 9, 8]), 'target_names': array([0, 1, 2, 3, 4, 5, 6, 7, 8, 9]), 'images': array([[[ 0.,  0.,  5., ...,  1.,  0.,  0.],\n",
            "        [ 0.,  0., 13., ..., 15.,  5.,  0.],\n",
            "        [ 0.,  3., 15., ..., 11.,  8.,  0.],\n",
            "        ...,\n",
            "        [ 0.,  4., 11., ..., 12.,  7.,  0.],\n",
            "        [ 0.,  2., 14., ..., 12.,  0.,  0.],\n",
            "        [ 0.,  0.,  6., ...,  0.,  0.,  0.]],\n",
            "\n",
            "       [[ 0.,  0.,  0., ...,  5.,  0.,  0.],\n",
            "        [ 0.,  0.,  0., ...,  9.,  0.,  0.],\n",
            "        [ 0.,  0.,  3., ...,  6.,  0.,  0.],\n",
            "        ...,\n",
            "        [ 0.,  0.,  1., ...,  6.,  0.,  0.],\n",
            "        [ 0.,  0.,  1., ...,  6.,  0.,  0.],\n",
            "        [ 0.,  0.,  0., ..., 10.,  0.,  0.]],\n",
            "\n",
            "       [[ 0.,  0.,  0., ..., 12.,  0.,  0.],\n",
            "        [ 0.,  0.,  3., ..., 14.,  0.,  0.],\n",
            "        [ 0.,  0.,  8., ..., 16.,  0.,  0.],\n",
            "        ...,\n",
            "        [ 0.,  9., 16., ...,  0.,  0.,  0.],\n",
            "        [ 0.,  3., 13., ..., 11.,  5.,  0.],\n",
            "        [ 0.,  0.,  0., ..., 16.,  9.,  0.]],\n",
            "\n",
            "       ...,\n",
            "\n",
            "       [[ 0.,  0.,  1., ...,  1.,  0.,  0.],\n",
            "        [ 0.,  0., 13., ...,  2.,  1.,  0.],\n",
            "        [ 0.,  0., 16., ..., 16.,  5.,  0.],\n",
            "        ...,\n",
            "        [ 0.,  0., 16., ..., 15.,  0.,  0.],\n",
            "        [ 0.,  0., 15., ..., 16.,  0.,  0.],\n",
            "        [ 0.,  0.,  2., ...,  6.,  0.,  0.]],\n",
            "\n",
            "       [[ 0.,  0.,  2., ...,  0.,  0.,  0.],\n",
            "        [ 0.,  0., 14., ..., 15.,  1.,  0.],\n",
            "        [ 0.,  4., 16., ..., 16.,  7.,  0.],\n",
            "        ...,\n",
            "        [ 0.,  0.,  0., ..., 16.,  2.,  0.],\n",
            "        [ 0.,  0.,  4., ..., 16.,  2.,  0.],\n",
            "        [ 0.,  0.,  5., ..., 12.,  0.,  0.]],\n",
            "\n",
            "       [[ 0.,  0., 10., ...,  1.,  0.,  0.],\n",
            "        [ 0.,  2., 16., ...,  1.,  0.,  0.],\n",
            "        [ 0.,  0., 15., ..., 15.,  0.,  0.],\n",
            "        ...,\n",
            "        [ 0.,  4., 16., ..., 16.,  6.,  0.],\n",
            "        [ 0.,  8., 16., ..., 16.,  8.,  0.],\n",
            "        [ 0.,  1.,  8., ..., 12.,  1.,  0.]]]), 'DESCR': \".. _digits_dataset:\\n\\nOptical recognition of handwritten digits dataset\\n--------------------------------------------------\\n\\n**Data Set Characteristics:**\\n\\n    :Number of Instances: 5620\\n    :Number of Attributes: 64\\n    :Attribute Information: 8x8 image of integer pixels in the range 0..16.\\n    :Missing Attribute Values: None\\n    :Creator: E. Alpaydin (alpaydin '@' boun.edu.tr)\\n    :Date: July; 1998\\n\\nThis is a copy of the test set of the UCI ML hand-written digits datasets\\nhttp://archive.ics.uci.edu/ml/datasets/Optical+Recognition+of+Handwritten+Digits\\n\\nThe data set contains images of hand-written digits: 10 classes where\\neach class refers to a digit.\\n\\nPreprocessing programs made available by NIST were used to extract\\nnormalized bitmaps of handwritten digits from a preprinted form. From a\\ntotal of 43 people, 30 contributed to the training set and different 13\\nto the test set. 32x32 bitmaps are divided into nonoverlapping blocks of\\n4x4 and the number of on pixels are counted in each block. This generates\\nan input matrix of 8x8 where each element is an integer in the range\\n0..16. This reduces dimensionality and gives invariance to small\\ndistortions.\\n\\nFor info on NIST preprocessing routines, see M. D. Garris, J. L. Blue, G.\\nT. Candela, D. L. Dimmick, J. Geist, P. J. Grother, S. A. Janet, and C.\\nL. Wilson, NIST Form-Based Handprint Recognition System, NISTIR 5469,\\n1994.\\n\\n.. topic:: References\\n\\n  - C. Kaynak (1995) Methods of Combining Multiple Classifiers and Their\\n    Applications to Handwritten Digit Recognition, MSc Thesis, Institute of\\n    Graduate Studies in Science and Engineering, Bogazici University.\\n  - E. Alpaydin, C. Kaynak (1998) Cascading Classifiers, Kybernetika.\\n  - Ken Tang and Ponnuthurai N. Suganthan and Xi Yao and A. Kai Qin.\\n    Linear dimensionalityreduction using relevance weighted LDA. School of\\n    Electrical and Electronic Engineering Nanyang Technological University.\\n    2005.\\n  - Claudio Gentile. A New Approximate Maximal Margin Classification\\n    Algorithm. NIPS. 2000.\"} \n",
            "\n"
          ],
          "name": "stdout"
        },
        {
          "output_type": "execute_result",
          "data": {
            "text/plain": [
              "<matplotlib.image.AxesImage at 0x7f161ea670b8>"
            ]
          },
          "metadata": {
            "tags": []
          },
          "execution_count": 26
        },
        {
          "output_type": "display_data",
          "data": {
            "text/plain": [
              "<Figure size 432x288 with 0 Axes>"
            ]
          },
          "metadata": {
            "tags": []
          }
        },
        {
          "output_type": "display_data",
          "data": {
            "image/png": "[encoded data removed]",
            "text/plain": [
              "<Figure size 288x288 with 1 Axes>"
            ]
          },
          "metadata": {
            "tags": []
          }
        }
      ]
    },
    {
      "metadata": {
        "id": "teZhTX6GbquV",
        "colab_type": "code",
        "colab": {
          "base_uri": "https://localhost:8080/",
          "height": 1105
        },
        "outputId": "cb30f41a-34aa-4928-90b3-637ddb294163"
      },
      "cell_type": "code",
      "source": [
        "### Encode the target using One-Hot Encoding\n",
        "onehot_target = pd.get_dummies(dig.target)\n",
        "\n",
        "print(onehot_target) "
      ],
      "execution_count": 27,
      "outputs": [
        {
          "output_type": "stream",
          "text": [
            "      0  1  2  3  4  5  6  7  8  9\n",
            "0     1  0  0  0  0  0  0  0  0  0\n",
            "1     0  1  0  0  0  0  0  0  0  0\n",
            "2     0  0  1  0  0  0  0  0  0  0\n",
            "3     0  0  0  1  0  0  0  0  0  0\n",
            "4     0  0  0  0  1  0  0  0  0  0\n",
            "5     0  0  0  0  0  1  0  0  0  0\n",
            "6     0  0  0  0  0  0  1  0  0  0\n",
            "7     0  0  0  0  0  0  0  1  0  0\n",
            "8     0  0  0  0  0  0  0  0  1  0\n",
            "9     0  0  0  0  0  0  0  0  0  1\n",
            "10    1  0  0  0  0  0  0  0  0  0\n",
            "11    0  1  0  0  0  0  0  0  0  0\n",
            "12    0  0  1  0  0  0  0  0  0  0\n",
            "13    0  0  0  1  0  0  0  0  0  0\n",
            "14    0  0  0  0  1  0  0  0  0  0\n",
            "15    0  0  0  0  0  1  0  0  0  0\n",
            "16    0  0  0  0  0  0  1  0  0  0\n",
            "17    0  0  0  0  0  0  0  1  0  0\n",
            "18    0  0  0  0  0  0  0  0  1  0\n",
            "19    0  0  0  0  0  0  0  0  0  1\n",
            "20    1  0  0  0  0  0  0  0  0  0\n",
            "21    0  1  0  0  0  0  0  0  0  0\n",
            "22    0  0  1  0  0  0  0  0  0  0\n",
            "23    0  0  0  1  0  0  0  0  0  0\n",
            "24    0  0  0  0  1  0  0  0  0  0\n",
            "25    0  0  0  0  0  1  0  0  0  0\n",
            "26    0  0  0  0  0  0  1  0  0  0\n",
            "27    0  0  0  0  0  0  0  1  0  0\n",
            "28    0  0  0  0  0  0  0  0  1  0\n",
            "29    0  0  0  0  0  0  0  0  0  1\n",
            "...  .. .. .. .. .. .. .. .. .. ..\n",
            "1767  0  0  0  0  1  0  0  0  0  0\n",
            "1768  1  0  0  0  0  0  0  0  0  0\n",
            "1769  0  0  0  0  0  1  0  0  0  0\n",
            "1770  0  0  0  1  0  0  0  0  0  0\n",
            "1771  0  0  0  0  0  0  1  0  0  0\n",
            "1772  0  0  0  0  0  0  0  0  0  1\n",
            "1773  0  0  0  0  0  0  1  0  0  0\n",
            "1774  0  1  0  0  0  0  0  0  0  0\n",
            "1775  0  0  0  0  0  0  0  1  0  0\n",
            "1776  0  0  0  0  0  1  0  0  0  0\n",
            "1777  0  0  0  0  1  0  0  0  0  0\n",
            "1778  0  0  0  0  1  0  0  0  0  0\n",
            "1779  0  0  0  0  0  0  0  1  0  0\n",
            "1780  0  0  1  0  0  0  0  0  0  0\n",
            "1781  0  0  0  0  0  0  0  0  1  0\n",
            "1782  0  0  1  0  0  0  0  0  0  0\n",
            "1783  0  0  1  0  0  0  0  0  0  0\n",
            "1784  0  0  0  0  0  1  0  0  0  0\n",
            "1785  0  0  0  0  0  0  0  1  0  0\n",
            "1786  0  0  0  0  0  0  0  0  0  1\n",
            "1787  0  0  0  0  0  1  0  0  0  0\n",
            "1788  0  0  0  0  1  0  0  0  0  0\n",
            "1789  0  0  0  0  0  0  0  0  1  0\n",
            "1790  0  0  0  0  0  0  0  0  1  0\n",
            "1791  0  0  0  0  1  0  0  0  0  0\n",
            "1792  0  0  0  0  0  0  0  0  0  1\n",
            "1793  1  0  0  0  0  0  0  0  0  0\n",
            "1794  0  0  0  0  0  0  0  0  1  0\n",
            "1795  0  0  0  0  0  0  0  0  0  1\n",
            "1796  0  0  0  0  0  0  0  0  1  0\n",
            "\n",
            "[1797 rows x 10 columns]\n"
          ],
          "name": "stdout"
        }
      ]
    },
    {
      "metadata": {
        "id": "ryXSVYa9cbKZ",
        "colab_type": "code",
        "colab": {}
      },
      "cell_type": "code",
      "source": [
        "### Split the dataset into train and test sets\n",
        "X_train, X_val, y_train, y_val = train_test_split(dig.data, onehot_target, test_size =0.1, random_state =20)"
      ],
      "execution_count": 0,
      "outputs": []
    },
    {
      "metadata": {
        "id": "BwXpbmExdWpy",
        "colab_type": "code",
        "colab": {
          "base_uri": "https://localhost:8080/",
          "height": 68
        },
        "outputId": "0f321a84-7969-4af5-f5b7-d60b73dca3a2"
      },
      "cell_type": "code",
      "source": [
        "### Print shape of train sets\n",
        "print(\"Shape of X_train set:\", X_train.shape, '\\n')\n",
        "print(\"Shape of y_train set:\", y_train.shape)"
      ],
      "execution_count": 29,
      "outputs": [
        {
          "output_type": "stream",
          "text": [
            "Shape of X_train set: (1617, 64) \n",
            "\n",
            "Shape of y_train set: (1617, 10)\n"
          ],
          "name": "stdout"
        }
      ]
    },
    {
      "metadata": {
        "id": "tGUq8EDbejVq",
        "colab_type": "code",
        "colab": {
          "base_uri": "https://localhost:8080/",
          "height": 68
        },
        "outputId": "0c6457b7-a8ff-4ac1-b1f0-867101f55635"
      },
      "cell_type": "code",
      "source": [
        "### Print shape of val sets\n",
        "print(\"Shape of X_val:\", X_val.shape, '\\n')\n",
        "print(\"Shape of y_val:\", y_val.shape)"
      ],
      "execution_count": 30,
      "outputs": [
        {
          "output_type": "stream",
          "text": [
            "Shape of X_val: (180, 64) \n",
            "\n",
            "Shape of y_val: (180, 10)\n"
          ],
          "name": "stdout"
        }
      ]
    }
  ]
}